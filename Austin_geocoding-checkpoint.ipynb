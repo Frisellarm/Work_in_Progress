{
 "cells": [
  {
   "cell_type": "code",
   "execution_count": 55,
   "metadata": {},
   "outputs": [],
   "source": [
    "from pandas.io.json import json_normalize\n",
    "from tqdm import tqdm\n",
    "from datetime import datetime\n",
    "import os\n",
    "\n",
    "import googlemaps"
   ]
  },
  {
   "cell_type": "markdown",
   "metadata": {},
   "source": [
    "# Read in your api key"
   ]
  },
  {
   "cell_type": "code",
   "execution_count": 56,
   "metadata": {},
   "outputs": [],
   "source": [
    "with open('../Api_keys/Google_maps.txt','r') as key:\n",
    "    your_api_key = key.read()"
   ]
  },
  {
   "cell_type": "code",
   "execution_count": 57,
   "metadata": {},
   "outputs": [],
   "source": [
    "gmaps = googlemaps.Client(key=your_api_key)"
   ]
  },
  {
   "cell_type": "code",
   "execution_count": 2,
   "metadata": {},
   "outputs": [],
   "source": [
    "df = pd.read_csv('TX_MLS.csv')"
   ]
  },
  {
   "cell_type": "code",
   "execution_count": 3,
   "metadata": {},
   "outputs": [
    {
     "data": {
      "text/html": [
       "<div>\n",
       "<style scoped>\n",
       "    .dataframe tbody tr th:only-of-type {\n",
       "        vertical-align: middle;\n",
       "    }\n",
       "\n",
       "    .dataframe tbody tr th {\n",
       "        vertical-align: top;\n",
       "    }\n",
       "\n",
       "    .dataframe thead th {\n",
       "        text-align: right;\n",
       "    }\n",
       "</style>\n",
       "<table border=\"1\" class=\"dataframe\">\n",
       "  <thead>\n",
       "    <tr style=\"text-align: right;\">\n",
       "      <th></th>\n",
       "      <th>attom_id</th>\n",
       "      <th>full_address</th>\n",
       "      <th>status</th>\n",
       "      <th>date</th>\n",
       "    </tr>\n",
       "  </thead>\n",
       "  <tbody>\n",
       "    <tr>\n",
       "      <th>0</th>\n",
       "      <td>27742900.0</td>\n",
       "      <td>3005 Stratford Dr Austin, TX 78746</td>\n",
       "      <td>Active</td>\n",
       "      <td>2017-02-01 14:29:12.0000000</td>\n",
       "    </tr>\n",
       "    <tr>\n",
       "      <th>1</th>\n",
       "      <td>13992735.0</td>\n",
       "      <td>3406 Mount Bonnell Rd Austin, TX 78731</td>\n",
       "      <td>Active</td>\n",
       "      <td>2016-12-01 08:03:39.0000000</td>\n",
       "    </tr>\n",
       "    <tr>\n",
       "      <th>2</th>\n",
       "      <td>41765057.0</td>\n",
       "      <td>12006 Pleasant Panorama Vw Austin, TX 78738</td>\n",
       "      <td>Active</td>\n",
       "      <td>2017-09-21 08:29:12.0000000</td>\n",
       "    </tr>\n",
       "    <tr>\n",
       "      <th>3</th>\n",
       "      <td>44685286.0</td>\n",
       "      <td>9900 Lake Ridge Dr Austin, TX 78733</td>\n",
       "      <td>Active</td>\n",
       "      <td>2017-01-08 00:00:00.0000000</td>\n",
       "    </tr>\n",
       "    <tr>\n",
       "      <th>4</th>\n",
       "      <td>142774593.0</td>\n",
       "      <td>17137 Majestic Ridge Rd Austin, TX 78738</td>\n",
       "      <td>Active</td>\n",
       "      <td>2017-02-19 18:28:07.0000000</td>\n",
       "    </tr>\n",
       "  </tbody>\n",
       "</table>\n",
       "</div>"
      ],
      "text/plain": [
       "      attom_id                                 full_address  status  \\\n",
       "0   27742900.0           3005 Stratford Dr Austin, TX 78746  Active   \n",
       "1   13992735.0       3406 Mount Bonnell Rd Austin, TX 78731  Active   \n",
       "2   41765057.0  12006 Pleasant Panorama Vw Austin, TX 78738  Active   \n",
       "3   44685286.0          9900 Lake Ridge Dr Austin, TX 78733  Active   \n",
       "4  142774593.0     17137 Majestic Ridge Rd Austin, TX 78738  Active   \n",
       "\n",
       "                          date  \n",
       "0  2017-02-01 14:29:12.0000000  \n",
       "1  2016-12-01 08:03:39.0000000  \n",
       "2  2017-09-21 08:29:12.0000000  \n",
       "3  2017-01-08 00:00:00.0000000  \n",
       "4  2017-02-19 18:28:07.0000000  "
      ]
     },
     "execution_count": 3,
     "metadata": {},
     "output_type": "execute_result"
    }
   ],
   "source": [
    "df.head()"
   ]
  },
  {
   "cell_type": "code",
   "execution_count": 13,
   "metadata": {},
   "outputs": [],
   "source": [
    "places = df['full_address'].values"
   ]
  },
  {
   "cell_type": "code",
   "execution_count": 14,
   "metadata": {},
   "outputs": [
    {
     "name": "stderr",
     "output_type": "stream",
     "text": [
      "100%|██████████████████████████████████████████████████████████████████████████████| 1256/1256 [09:52<00:00,  2.12it/s]\n"
     ]
    }
   ],
   "source": [
    "# Geocoding an address\n",
    "austin_places = []\n",
    "for place in tqdm(range(len(places))):\n",
    "    geocode_result = gmaps.geocode(places[place])\n",
    "    austin_places.append(geocode_result)"
   ]
  },
  {
   "cell_type": "code",
   "execution_count": 15,
   "metadata": {},
   "outputs": [],
   "source": [
    "google_maps_data = json_normalize([next(iter(place)) for place in austin_places])"
   ]
  },
  {
   "cell_type": "code",
   "execution_count": 19,
   "metadata": {},
   "outputs": [],
   "source": [
    "gmaps_data = google_maps_data[['formatted_address','geometry.location.lat','geometry.location.lng','place_id']]"
   ]
  },
  {
   "cell_type": "code",
   "execution_count": 26,
   "metadata": {},
   "outputs": [],
   "source": [
    "data = pd.merge(df,gmaps_data,on=df.index)"
   ]
  },
  {
   "cell_type": "code",
   "execution_count": 27,
   "metadata": {},
   "outputs": [],
   "source": [
    "data.to_csv('./computed_data/'+str(datetime.today())[:10]+'_MLS_Austin_gmaps.csv',index=False)"
   ]
  },
  {
   "cell_type": "code",
   "execution_count": null,
   "metadata": {},
   "outputs": [],
   "source": []
  }
 ],
 "metadata": {
  "kernelspec": {
   "display_name": "Python 3",
   "language": "python",
   "name": "python3"
  },
  "language_info": {
   "codemirror_mode": {
    "name": "ipython",
    "version": 3
   },
   "file_extension": ".py",
   "mimetype": "text/x-python",
   "name": "python",
   "nbconvert_exporter": "python",
   "pygments_lexer": "ipython3",
   "version": "3.5.6"
  }
 },
 "nbformat": 4,
 "nbformat_minor": 2
}
