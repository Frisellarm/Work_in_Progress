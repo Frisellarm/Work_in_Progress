{
 "cells": [
  {
   "cell_type": "markdown",
   "metadata": {},
   "source": [
    "## NOTES:  \n",
    "This is still a work on progress and needs to be tuned. The results are overfit because there aren't that many columns to match the data with.\n",
    "Synthetic data has been created to create a better balacne. This will cause more false positives. It will need more data to ensure that it is more strict and does not have false postives."
   ]
  },
  {
   "cell_type": "code",
   "execution_count": 78,
   "metadata": {},
   "outputs": [],
   "source": [
    "#import dependencies.\n",
    "import pandas as pd\n",
    "from sqlalchemy import create_engine\n",
    "import numpy as np\n",
    "\n",
    "import pyodbc \n",
    "\n",
    "from sklearn.preprocessing import OneHotEncoder, LabelEncoder , StandardScaler, imputation\n",
    "from sklearn.ensemble import ExtraTreesClassifier\n",
    "from sklearn.linear_model.logistic import LogisticRegression \n",
    "from sklearn.feature_selection import RFECV\n",
    "from sklearn.metrics import matthews_corrcoef, classification_report, roc_auc_score,roc_curve\n",
    "from sklearn.cross_validation import train_test_split\n",
    "\n",
    "from db_config import conn_str, engine\n",
    "\n",
    "import scikitplot as skplt\n",
    "import matplotlib.pyplot as plt\n",
    "%matplotlib inline\n",
    "\n",
    "from imblearn.over_sampling import SMOTE"
   ]
  },
  {
   "cell_type": "code",
   "execution_count": 79,
   "metadata": {},
   "outputs": [],
   "source": [
    "#creating the connection to the database\n",
    "engine = create_engine(engine)"
   ]
  },
  {
   "cell_type": "code",
   "execution_count": 80,
   "metadata": {},
   "outputs": [],
   "source": [
    "#setting up the credientials for logging in. \n",
    "cnxn = pyodbc.connect(conn_str)"
   ]
  },
  {
   "cell_type": "code",
   "execution_count": 9,
   "metadata": {},
   "outputs": [],
   "source": [
    "#Query the database\n",
    "data = pd.read_sql(\"\"\"SELECT *\n",
    "  FROM [tab]\n",
    "  LEFT JOIN [group_a_loan] as loan\n",
    "  ON tab.attom_id = loan.attom_id\n",
    "  WHERE [formatted_address] LIKE '%TX%'\"\"\",cnxn)"
   ]
  },
  {
   "cell_type": "code",
   "execution_count": 10,
   "metadata": {},
   "outputs": [
    {
     "data": {
      "text/plain": [
       "(1255, 54)"
      ]
     },
     "execution_count": 10,
     "metadata": {},
     "output_type": "execute_result"
    }
   ],
   "source": [
    "data.shape"
   ]
  },
  {
   "cell_type": "code",
   "execution_count": 11,
   "metadata": {},
   "outputs": [
    {
     "data": {
      "text/html": [
       "<div>\n",
       "<style scoped>\n",
       "    .dataframe tbody tr th:only-of-type {\n",
       "        vertical-align: middle;\n",
       "    }\n",
       "\n",
       "    .dataframe tbody tr th {\n",
       "        vertical-align: top;\n",
       "    }\n",
       "\n",
       "    .dataframe thead th {\n",
       "        text-align: right;\n",
       "    }\n",
       "</style>\n",
       "<table border=\"1\" class=\"dataframe\">\n",
       "  <thead>\n",
       "    <tr style=\"text-align: right;\">\n",
       "      <th></th>\n",
       "      <th>column_1</th>\n",
       "      <th>attom_id</th>\n",
       "      <th>full_address</th>\n",
       "      <th>status</th>\n",
       "      <th>date</th>\n",
       "      <th>formatted_address</th>\n",
       "      <th>geometry_location_lat</th>\n",
       "      <th>geometry_location_lng</th>\n",
       "      <th>place_id</th>\n",
       "      <th>id</th>\n",
       "      <th>...</th>\n",
       "      <th>current_third_position_open_loan_interest_rate_type</th>\n",
       "      <th>current_third_position_open_loan_interest_rate</th>\n",
       "      <th>current_third_position_mortgage_type</th>\n",
       "      <th>current_third_position_open_loan_transaction_id</th>\n",
       "      <th>ltv</th>\n",
       "      <th>available_equity</th>\n",
       "      <th>lendable_equity</th>\n",
       "      <th>publication_date</th>\n",
       "      <th>loaded_at</th>\n",
       "      <th>modified_at</th>\n",
       "    </tr>\n",
       "  </thead>\n",
       "  <tbody>\n",
       "    <tr>\n",
       "      <th>0</th>\n",
       "      <td>581</td>\n",
       "      <td>12020893.0</td>\n",
       "      <td>3500 SAND DUNES AVE AUSTIN TX 78744</td>\n",
       "      <td>0</td>\n",
       "      <td>0</td>\n",
       "      <td>3500 Sand Dunes Ave, Austin, TX 78744, USA</td>\n",
       "      <td>30.200146</td>\n",
       "      <td>-97.692693</td>\n",
       "      <td>ChIJX3jgylCxRIYRu4iausPAEt0</td>\n",
       "      <td>541974.0</td>\n",
       "      <td>...</td>\n",
       "      <td>None</td>\n",
       "      <td>0.0</td>\n",
       "      <td>None</td>\n",
       "      <td>0.0</td>\n",
       "      <td>60.0</td>\n",
       "      <td>97750.0</td>\n",
       "      <td>78200.0</td>\n",
       "      <td>2018-07-24 00:00:00.0000000</td>\n",
       "      <td>2018-08-19 21:10:46.6400000</td>\n",
       "      <td>2018-08-19 21:10:46.6400000</td>\n",
       "    </tr>\n",
       "    <tr>\n",
       "      <th>1</th>\n",
       "      <td>588</td>\n",
       "      <td>4825936.0</td>\n",
       "      <td>10244 TWIN LAKE LOOP DRIPPING SPRINGS TX 78620</td>\n",
       "      <td>0</td>\n",
       "      <td>0</td>\n",
       "      <td>10244 Twin Lake Loop, Dripping Springs, TX 786...</td>\n",
       "      <td>30.280868</td>\n",
       "      <td>-98.054169</td>\n",
       "      <td>ChIJy3BRMFY_W4YRoOfIU7Zjc-A</td>\n",
       "      <td>820556.0</td>\n",
       "      <td>...</td>\n",
       "      <td>None</td>\n",
       "      <td>0.0</td>\n",
       "      <td>None</td>\n",
       "      <td>0.0</td>\n",
       "      <td>93.0</td>\n",
       "      <td>21700.0</td>\n",
       "      <td>17360.0</td>\n",
       "      <td>2018-07-24 00:00:00.0000000</td>\n",
       "      <td>2018-08-19 21:10:46.6400000</td>\n",
       "      <td>2018-08-19 21:10:46.6400000</td>\n",
       "    </tr>\n",
       "    <tr>\n",
       "      <th>2</th>\n",
       "      <td>726</td>\n",
       "      <td>1643211.0</td>\n",
       "      <td>5210 Duval St Austin, TX 78751</td>\n",
       "      <td>0</td>\n",
       "      <td>0</td>\n",
       "      <td>5210 Duval St, Austin, TX 78751, USA</td>\n",
       "      <td>30.316129</td>\n",
       "      <td>-97.718938</td>\n",
       "      <td>ChIJebTSQBPKRIYRwnbu_iGTmx8</td>\n",
       "      <td>1494343.0</td>\n",
       "      <td>...</td>\n",
       "      <td>None</td>\n",
       "      <td>0.0</td>\n",
       "      <td>None</td>\n",
       "      <td>0.0</td>\n",
       "      <td>91.0</td>\n",
       "      <td>40900.0</td>\n",
       "      <td>32720.0</td>\n",
       "      <td>2018-07-24 00:00:00.0000000</td>\n",
       "      <td>2018-08-19 21:10:46.6400000</td>\n",
       "      <td>2018-08-19 21:10:46.6400000</td>\n",
       "    </tr>\n",
       "    <tr>\n",
       "      <th>3</th>\n",
       "      <td>1098</td>\n",
       "      <td>8197899.0</td>\n",
       "      <td>1020 PEGGOTTY PL AUSTIN TX 78753</td>\n",
       "      <td>0</td>\n",
       "      <td>0</td>\n",
       "      <td>1020 Peggotty Pl, Austin, TX 78753, USA</td>\n",
       "      <td>30.387241</td>\n",
       "      <td>-97.661572</td>\n",
       "      <td>ChIJh2t03S7JRIYRI3qqldtM3Ow</td>\n",
       "      <td>2041726.0</td>\n",
       "      <td>...</td>\n",
       "      <td>None</td>\n",
       "      <td>0.0</td>\n",
       "      <td>None</td>\n",
       "      <td>0.0</td>\n",
       "      <td>62.0</td>\n",
       "      <td>86252.0</td>\n",
       "      <td>69001.0</td>\n",
       "      <td>2018-07-24 00:00:00.0000000</td>\n",
       "      <td>2018-08-19 21:10:46.6400000</td>\n",
       "      <td>2018-08-19 21:10:46.6400000</td>\n",
       "    </tr>\n",
       "    <tr>\n",
       "      <th>4</th>\n",
       "      <td>576</td>\n",
       "      <td>9251131.0</td>\n",
       "      <td>5005 S PLEASANT VALLEY RD AUSTIN TX 78744</td>\n",
       "      <td>0</td>\n",
       "      <td>0</td>\n",
       "      <td>5005 S Pleasant Valley Rd, Austin, TX 78744, USA</td>\n",
       "      <td>30.197789</td>\n",
       "      <td>-97.743347</td>\n",
       "      <td>ChIJG7SiXHizRIYRs2RQImAoEnQ</td>\n",
       "      <td>3142503.0</td>\n",
       "      <td>...</td>\n",
       "      <td>None</td>\n",
       "      <td>0.0</td>\n",
       "      <td>None</td>\n",
       "      <td>0.0</td>\n",
       "      <td>25.0</td>\n",
       "      <td>181000.0</td>\n",
       "      <td>144800.0</td>\n",
       "      <td>2018-07-24 00:00:00.0000000</td>\n",
       "      <td>2018-08-19 21:10:46.6400000</td>\n",
       "      <td>2018-08-19 21:10:46.6400000</td>\n",
       "    </tr>\n",
       "  </tbody>\n",
       "</table>\n",
       "<p>5 rows × 54 columns</p>\n",
       "</div>"
      ],
      "text/plain": [
       "   column_1    attom_id                                    full_address  \\\n",
       "0       581  12020893.0             3500 SAND DUNES AVE AUSTIN TX 78744   \n",
       "1       588   4825936.0  10244 TWIN LAKE LOOP DRIPPING SPRINGS TX 78620   \n",
       "2       726   1643211.0                  5210 Duval St Austin, TX 78751   \n",
       "3      1098   8197899.0                1020 PEGGOTTY PL AUSTIN TX 78753   \n",
       "4       576   9251131.0       5005 S PLEASANT VALLEY RD AUSTIN TX 78744   \n",
       "\n",
       "   status date                                  formatted_address  \\\n",
       "0       0    0         3500 Sand Dunes Ave, Austin, TX 78744, USA   \n",
       "1       0    0  10244 Twin Lake Loop, Dripping Springs, TX 786...   \n",
       "2       0    0               5210 Duval St, Austin, TX 78751, USA   \n",
       "3       0    0            1020 Peggotty Pl, Austin, TX 78753, USA   \n",
       "4       0    0   5005 S Pleasant Valley Rd, Austin, TX 78744, USA   \n",
       "\n",
       "   geometry_location_lat  geometry_location_lng                     place_id  \\\n",
       "0              30.200146             -97.692693  ChIJX3jgylCxRIYRu4iausPAEt0   \n",
       "1              30.280868             -98.054169  ChIJy3BRMFY_W4YRoOfIU7Zjc-A   \n",
       "2              30.316129             -97.718938  ChIJebTSQBPKRIYRwnbu_iGTmx8   \n",
       "3              30.387241             -97.661572  ChIJh2t03S7JRIYRI3qqldtM3Ow   \n",
       "4              30.197789             -97.743347  ChIJG7SiXHizRIYRs2RQImAoEnQ   \n",
       "\n",
       "          id             ...               \\\n",
       "0   541974.0             ...                \n",
       "1   820556.0             ...                \n",
       "2  1494343.0             ...                \n",
       "3  2041726.0             ...                \n",
       "4  3142503.0             ...                \n",
       "\n",
       "   current_third_position_open_loan_interest_rate_type  \\\n",
       "0                                               None     \n",
       "1                                               None     \n",
       "2                                               None     \n",
       "3                                               None     \n",
       "4                                               None     \n",
       "\n",
       "  current_third_position_open_loan_interest_rate  \\\n",
       "0                                            0.0   \n",
       "1                                            0.0   \n",
       "2                                            0.0   \n",
       "3                                            0.0   \n",
       "4                                            0.0   \n",
       "\n",
       "  current_third_position_mortgage_type  \\\n",
       "0                                 None   \n",
       "1                                 None   \n",
       "2                                 None   \n",
       "3                                 None   \n",
       "4                                 None   \n",
       "\n",
       "  current_third_position_open_loan_transaction_id   ltv  available_equity  \\\n",
       "0                                             0.0  60.0           97750.0   \n",
       "1                                             0.0  93.0           21700.0   \n",
       "2                                             0.0  91.0           40900.0   \n",
       "3                                             0.0  62.0           86252.0   \n",
       "4                                             0.0  25.0          181000.0   \n",
       "\n",
       "  lendable_equity             publication_date                    loaded_at  \\\n",
       "0         78200.0  2018-07-24 00:00:00.0000000  2018-08-19 21:10:46.6400000   \n",
       "1         17360.0  2018-07-24 00:00:00.0000000  2018-08-19 21:10:46.6400000   \n",
       "2         32720.0  2018-07-24 00:00:00.0000000  2018-08-19 21:10:46.6400000   \n",
       "3         69001.0  2018-07-24 00:00:00.0000000  2018-08-19 21:10:46.6400000   \n",
       "4        144800.0  2018-07-24 00:00:00.0000000  2018-08-19 21:10:46.6400000   \n",
       "\n",
       "                   modified_at  \n",
       "0  2018-08-19 21:10:46.6400000  \n",
       "1  2018-08-19 21:10:46.6400000  \n",
       "2  2018-08-19 21:10:46.6400000  \n",
       "3  2018-08-19 21:10:46.6400000  \n",
       "4  2018-08-19 21:10:46.6400000  \n",
       "\n",
       "[5 rows x 54 columns]"
      ]
     },
     "execution_count": 11,
     "metadata": {},
     "output_type": "execute_result"
    }
   ],
   "source": [
    "data.head()"
   ]
  },
  {
   "cell_type": "code",
   "execution_count": 12,
   "metadata": {},
   "outputs": [],
   "source": [
    "data['status'] = data['status'].fillna(0)"
   ]
  },
  {
   "cell_type": "raw",
   "metadata": {},
   "source": [
    "#creating a field to idenitfy if they were listed on MLS\n",
    "filling_status = data[data['status'] != 0]['status'].index\n",
    "data['status'] = data['status'].map({'Sale':1,'Active':1})\n",
    "data['status'] = data['status'].fillna(0)"
   ]
  },
  {
   "cell_type": "code",
   "execution_count": 13,
   "metadata": {},
   "outputs": [
    {
     "data": {
      "text/plain": [
       "0    991\n",
       "1    264\n",
       "Name: status, dtype: int64"
      ]
     },
     "execution_count": 13,
     "metadata": {},
     "output_type": "execute_result"
    }
   ],
   "source": [
    "#data showing a large imbalance\n",
    "data['status'].value_counts()"
   ]
  },
  {
   "cell_type": "code",
   "execution_count": 14,
   "metadata": {},
   "outputs": [],
   "source": [
    "#Changing the data to be labeled. \n",
    "def label_data(data,data_name):\n",
    "    data_name = str(data_name)\n",
    "    #Instaniating the label enconder to convert categorical data\n",
    "    le = LabelEncoder()\n",
    "\n",
    "    #creating a list of all columns that are objects, to create numerical values. \n",
    "    object_columns = list(data.dtypes[data.dtypes == 'object'].index)\n",
    "\n",
    "    #changing all object columns to a numerical value to measure. \n",
    "    for col in object_columns:\n",
    "        exec(('{}[{!r}] = le.fit_transform({}[{!r}])').format(data_name,col,data_name,col))\n",
    "    return data"
   ]
  },
  {
   "cell_type": "code",
   "execution_count": 15,
   "metadata": {},
   "outputs": [],
   "source": [
    "#dropping duplicate columns and only keeping the first ones. \n",
    "data = data[data.columns.drop_duplicates(keep='first')]"
   ]
  },
  {
   "cell_type": "code",
   "execution_count": 16,
   "metadata": {},
   "outputs": [],
   "source": [
    "data = data.drop(columns='attom_id')"
   ]
  },
  {
   "cell_type": "code",
   "execution_count": 17,
   "metadata": {},
   "outputs": [],
   "source": [
    "#dropping incomplete columns\n",
    "null_col_list = dict(data.isnull().sum() < data.shape[0]-800)"
   ]
  },
  {
   "cell_type": "code",
   "execution_count": 18,
   "metadata": {},
   "outputs": [],
   "source": [
    "#Creating values that should be dropped due to too many null values\n",
    "null_cols = []\n",
    "for k,v in null_col_list.items():\n",
    "    if v == False:\n",
    "        null_cols.append(k)"
   ]
  },
  {
   "cell_type": "code",
   "execution_count": 19,
   "metadata": {},
   "outputs": [],
   "source": [
    "data = data.drop(columns=null_cols)"
   ]
  },
  {
   "cell_type": "code",
   "execution_count": 20,
   "metadata": {},
   "outputs": [
    {
     "data": {
      "text/html": [
       "<div>\n",
       "<style scoped>\n",
       "    .dataframe tbody tr th:only-of-type {\n",
       "        vertical-align: middle;\n",
       "    }\n",
       "\n",
       "    .dataframe tbody tr th {\n",
       "        vertical-align: top;\n",
       "    }\n",
       "\n",
       "    .dataframe thead th {\n",
       "        text-align: right;\n",
       "    }\n",
       "</style>\n",
       "<table border=\"1\" class=\"dataframe\">\n",
       "  <thead>\n",
       "    <tr style=\"text-align: right;\">\n",
       "      <th></th>\n",
       "      <th>column_1</th>\n",
       "      <th>full_address</th>\n",
       "      <th>status</th>\n",
       "      <th>date</th>\n",
       "      <th>formatted_address</th>\n",
       "      <th>geometry_location_lat</th>\n",
       "      <th>geometry_location_lng</th>\n",
       "      <th>place_id</th>\n",
       "    </tr>\n",
       "  </thead>\n",
       "  <tbody>\n",
       "    <tr>\n",
       "      <th>0</th>\n",
       "      <td>581</td>\n",
       "      <td>3500 SAND DUNES AVE AUSTIN TX 78744</td>\n",
       "      <td>0</td>\n",
       "      <td>0</td>\n",
       "      <td>3500 Sand Dunes Ave, Austin, TX 78744, USA</td>\n",
       "      <td>30.200146</td>\n",
       "      <td>-97.692693</td>\n",
       "      <td>ChIJX3jgylCxRIYRu4iausPAEt0</td>\n",
       "    </tr>\n",
       "    <tr>\n",
       "      <th>1</th>\n",
       "      <td>588</td>\n",
       "      <td>10244 TWIN LAKE LOOP DRIPPING SPRINGS TX 78620</td>\n",
       "      <td>0</td>\n",
       "      <td>0</td>\n",
       "      <td>10244 Twin Lake Loop, Dripping Springs, TX 786...</td>\n",
       "      <td>30.280868</td>\n",
       "      <td>-98.054169</td>\n",
       "      <td>ChIJy3BRMFY_W4YRoOfIU7Zjc-A</td>\n",
       "    </tr>\n",
       "    <tr>\n",
       "      <th>2</th>\n",
       "      <td>726</td>\n",
       "      <td>5210 Duval St Austin, TX 78751</td>\n",
       "      <td>0</td>\n",
       "      <td>0</td>\n",
       "      <td>5210 Duval St, Austin, TX 78751, USA</td>\n",
       "      <td>30.316129</td>\n",
       "      <td>-97.718938</td>\n",
       "      <td>ChIJebTSQBPKRIYRwnbu_iGTmx8</td>\n",
       "    </tr>\n",
       "    <tr>\n",
       "      <th>3</th>\n",
       "      <td>1098</td>\n",
       "      <td>1020 PEGGOTTY PL AUSTIN TX 78753</td>\n",
       "      <td>0</td>\n",
       "      <td>0</td>\n",
       "      <td>1020 Peggotty Pl, Austin, TX 78753, USA</td>\n",
       "      <td>30.387241</td>\n",
       "      <td>-97.661572</td>\n",
       "      <td>ChIJh2t03S7JRIYRI3qqldtM3Ow</td>\n",
       "    </tr>\n",
       "    <tr>\n",
       "      <th>4</th>\n",
       "      <td>576</td>\n",
       "      <td>5005 S PLEASANT VALLEY RD AUSTIN TX 78744</td>\n",
       "      <td>0</td>\n",
       "      <td>0</td>\n",
       "      <td>5005 S Pleasant Valley Rd, Austin, TX 78744, USA</td>\n",
       "      <td>30.197789</td>\n",
       "      <td>-97.743347</td>\n",
       "      <td>ChIJG7SiXHizRIYRs2RQImAoEnQ</td>\n",
       "    </tr>\n",
       "  </tbody>\n",
       "</table>\n",
       "</div>"
      ],
      "text/plain": [
       "   column_1                                    full_address  status date  \\\n",
       "0       581             3500 SAND DUNES AVE AUSTIN TX 78744       0    0   \n",
       "1       588  10244 TWIN LAKE LOOP DRIPPING SPRINGS TX 78620       0    0   \n",
       "2       726                  5210 Duval St Austin, TX 78751       0    0   \n",
       "3      1098                1020 PEGGOTTY PL AUSTIN TX 78753       0    0   \n",
       "4       576       5005 S PLEASANT VALLEY RD AUSTIN TX 78744       0    0   \n",
       "\n",
       "                                   formatted_address  geometry_location_lat  \\\n",
       "0         3500 Sand Dunes Ave, Austin, TX 78744, USA              30.200146   \n",
       "1  10244 Twin Lake Loop, Dripping Springs, TX 786...              30.280868   \n",
       "2               5210 Duval St, Austin, TX 78751, USA              30.316129   \n",
       "3            1020 Peggotty Pl, Austin, TX 78753, USA              30.387241   \n",
       "4   5005 S Pleasant Valley Rd, Austin, TX 78744, USA              30.197789   \n",
       "\n",
       "   geometry_location_lng                     place_id  \n",
       "0             -97.692693  ChIJX3jgylCxRIYRu4iausPAEt0  \n",
       "1             -98.054169  ChIJy3BRMFY_W4YRoOfIU7Zjc-A  \n",
       "2             -97.718938  ChIJebTSQBPKRIYRwnbu_iGTmx8  \n",
       "3             -97.661572  ChIJh2t03S7JRIYRI3qqldtM3Ow  \n",
       "4             -97.743347  ChIJG7SiXHizRIYRs2RQImAoEnQ  "
      ]
     },
     "execution_count": 20,
     "metadata": {},
     "output_type": "execute_result"
    }
   ],
   "source": [
    "data.head()"
   ]
  },
  {
   "cell_type": "raw",
   "metadata": {},
   "source": [
    "#setting the ID as the index\n",
    "data = data.set_index('id')"
   ]
  },
  {
   "cell_type": "code",
   "execution_count": 68,
   "metadata": {},
   "outputs": [],
   "source": [
    "#Creating label encorder for categorical columns\n",
    "le = LabelEncoder()"
   ]
  },
  {
   "cell_type": "code",
   "execution_count": 23,
   "metadata": {},
   "outputs": [
    {
     "data": {
      "text/plain": [
       "column_1                 0\n",
       "full_address             0\n",
       "status                   0\n",
       "date                     0\n",
       "formatted_address        0\n",
       "geometry_location_lat    0\n",
       "geometry_location_lng    0\n",
       "place_id                 0\n",
       "dtype: int64"
      ]
     },
     "execution_count": 23,
     "metadata": {},
     "output_type": "execute_result"
    }
   ],
   "source": [
    "#Checking the amount of nulls.\n",
    "data.isnull().sum()"
   ]
  },
  {
   "cell_type": "code",
   "execution_count": 24,
   "metadata": {},
   "outputs": [],
   "source": [
    "data = data.fillna(axis=1,method='pad')"
   ]
  },
  {
   "cell_type": "code",
   "execution_count": 25,
   "metadata": {},
   "outputs": [
    {
     "data": {
      "text/html": [
       "<div>\n",
       "<style scoped>\n",
       "    .dataframe tbody tr th:only-of-type {\n",
       "        vertical-align: middle;\n",
       "    }\n",
       "\n",
       "    .dataframe tbody tr th {\n",
       "        vertical-align: top;\n",
       "    }\n",
       "\n",
       "    .dataframe thead th {\n",
       "        text-align: right;\n",
       "    }\n",
       "</style>\n",
       "<table border=\"1\" class=\"dataframe\">\n",
       "  <thead>\n",
       "    <tr style=\"text-align: right;\">\n",
       "      <th></th>\n",
       "      <th>column_1</th>\n",
       "      <th>full_address</th>\n",
       "      <th>status</th>\n",
       "      <th>date</th>\n",
       "      <th>formatted_address</th>\n",
       "      <th>geometry_location_lat</th>\n",
       "      <th>geometry_location_lng</th>\n",
       "      <th>place_id</th>\n",
       "    </tr>\n",
       "  </thead>\n",
       "  <tbody>\n",
       "    <tr>\n",
       "      <th>0</th>\n",
       "      <td>581</td>\n",
       "      <td>3500 SAND DUNES AVE AUSTIN TX 78744</td>\n",
       "      <td>0</td>\n",
       "      <td>0</td>\n",
       "      <td>3500 Sand Dunes Ave, Austin, TX 78744, USA</td>\n",
       "      <td>30.2001</td>\n",
       "      <td>-97.6927</td>\n",
       "      <td>ChIJX3jgylCxRIYRu4iausPAEt0</td>\n",
       "    </tr>\n",
       "    <tr>\n",
       "      <th>1</th>\n",
       "      <td>588</td>\n",
       "      <td>10244 TWIN LAKE LOOP DRIPPING SPRINGS TX 78620</td>\n",
       "      <td>0</td>\n",
       "      <td>0</td>\n",
       "      <td>10244 Twin Lake Loop, Dripping Springs, TX 786...</td>\n",
       "      <td>30.2809</td>\n",
       "      <td>-98.0542</td>\n",
       "      <td>ChIJy3BRMFY_W4YRoOfIU7Zjc-A</td>\n",
       "    </tr>\n",
       "    <tr>\n",
       "      <th>2</th>\n",
       "      <td>726</td>\n",
       "      <td>5210 Duval St Austin, TX 78751</td>\n",
       "      <td>0</td>\n",
       "      <td>0</td>\n",
       "      <td>5210 Duval St, Austin, TX 78751, USA</td>\n",
       "      <td>30.3161</td>\n",
       "      <td>-97.7189</td>\n",
       "      <td>ChIJebTSQBPKRIYRwnbu_iGTmx8</td>\n",
       "    </tr>\n",
       "    <tr>\n",
       "      <th>3</th>\n",
       "      <td>1098</td>\n",
       "      <td>1020 PEGGOTTY PL AUSTIN TX 78753</td>\n",
       "      <td>0</td>\n",
       "      <td>0</td>\n",
       "      <td>1020 Peggotty Pl, Austin, TX 78753, USA</td>\n",
       "      <td>30.3872</td>\n",
       "      <td>-97.6616</td>\n",
       "      <td>ChIJh2t03S7JRIYRI3qqldtM3Ow</td>\n",
       "    </tr>\n",
       "    <tr>\n",
       "      <th>4</th>\n",
       "      <td>576</td>\n",
       "      <td>5005 S PLEASANT VALLEY RD AUSTIN TX 78744</td>\n",
       "      <td>0</td>\n",
       "      <td>0</td>\n",
       "      <td>5005 S Pleasant Valley Rd, Austin, TX 78744, USA</td>\n",
       "      <td>30.1978</td>\n",
       "      <td>-97.7433</td>\n",
       "      <td>ChIJG7SiXHizRIYRs2RQImAoEnQ</td>\n",
       "    </tr>\n",
       "  </tbody>\n",
       "</table>\n",
       "</div>"
      ],
      "text/plain": [
       "  column_1                                    full_address status date  \\\n",
       "0      581             3500 SAND DUNES AVE AUSTIN TX 78744      0    0   \n",
       "1      588  10244 TWIN LAKE LOOP DRIPPING SPRINGS TX 78620      0    0   \n",
       "2      726                  5210 Duval St Austin, TX 78751      0    0   \n",
       "3     1098                1020 PEGGOTTY PL AUSTIN TX 78753      0    0   \n",
       "4      576       5005 S PLEASANT VALLEY RD AUSTIN TX 78744      0    0   \n",
       "\n",
       "                                   formatted_address geometry_location_lat  \\\n",
       "0         3500 Sand Dunes Ave, Austin, TX 78744, USA               30.2001   \n",
       "1  10244 Twin Lake Loop, Dripping Springs, TX 786...               30.2809   \n",
       "2               5210 Duval St, Austin, TX 78751, USA               30.3161   \n",
       "3            1020 Peggotty Pl, Austin, TX 78753, USA               30.3872   \n",
       "4   5005 S Pleasant Valley Rd, Austin, TX 78744, USA               30.1978   \n",
       "\n",
       "  geometry_location_lng                     place_id  \n",
       "0              -97.6927  ChIJX3jgylCxRIYRu4iausPAEt0  \n",
       "1              -98.0542  ChIJy3BRMFY_W4YRoOfIU7Zjc-A  \n",
       "2              -97.7189  ChIJebTSQBPKRIYRwnbu_iGTmx8  \n",
       "3              -97.6616  ChIJh2t03S7JRIYRI3qqldtM3Ow  \n",
       "4              -97.7433  ChIJG7SiXHizRIYRs2RQImAoEnQ  "
      ]
     },
     "execution_count": 25,
     "metadata": {},
     "output_type": "execute_result"
    }
   ],
   "source": [
    "data.head()"
   ]
  },
  {
   "cell_type": "code",
   "execution_count": 26,
   "metadata": {},
   "outputs": [
    {
     "data": {
      "text/plain": [
       "column_1                 object\n",
       "full_address             object\n",
       "status                   object\n",
       "date                     object\n",
       "formatted_address        object\n",
       "geometry_location_lat    object\n",
       "geometry_location_lng    object\n",
       "place_id                 object\n",
       "dtype: object"
      ]
     },
     "execution_count": 26,
     "metadata": {},
     "output_type": "execute_result"
    }
   ],
   "source": [
    "data.dtypes"
   ]
  },
  {
   "cell_type": "code",
   "execution_count": 27,
   "metadata": {},
   "outputs": [],
   "source": [
    "#creating a list of all columns that are objects, to create numerical values. \n",
    "object_columns = list(data.dtypes[data.dtypes == 'object'].index)\n",
    "\n",
    "#changing all object columns to a numerical value to measure. \n",
    "for col in object_columns:\n",
    "    exec(('data[{!r}] = le.fit_transform(data[{!r}])').format(col,col))"
   ]
  },
  {
   "cell_type": "code",
   "execution_count": 28,
   "metadata": {},
   "outputs": [],
   "source": [
    "X = data.drop(columns='status')\n",
    "y = data['status']"
   ]
  },
  {
   "cell_type": "code",
   "execution_count": 29,
   "metadata": {},
   "outputs": [],
   "source": [
    "#finding any categories that exist in the set \n",
    "categorical_cols = []\n",
    "for cols in X.columns:\n",
    "    if len(X[cols].unique()) <20:\n",
    "        categorical_cols.append(cols)    "
   ]
  },
  {
   "cell_type": "code",
   "execution_count": 30,
   "metadata": {},
   "outputs": [],
   "source": [
    "#OneHotEnconding the categorical data.\n",
    "X_dums = pd.get_dummies(X,columns=list(categorical_cols),drop_first=True)\n",
    "\n",
    "y_dums = pd.get_dummies(y,drop_first=True)"
   ]
  },
  {
   "cell_type": "code",
   "execution_count": 31,
   "metadata": {},
   "outputs": [],
   "source": [
    "#Using smote to balance out the classes\n",
    "sm = SMOTE(random_state=42)"
   ]
  },
  {
   "cell_type": "code",
   "execution_count": 32,
   "metadata": {},
   "outputs": [],
   "source": [
    "X_res, y_res = sm.fit_sample(X_dums, y_dums[1])"
   ]
  },
  {
   "cell_type": "code",
   "execution_count": 33,
   "metadata": {},
   "outputs": [],
   "source": [
    "#using a standard Scaler to get all data within the same bounds.\n",
    "ss = StandardScaler()\n",
    "ss_X = ss.fit_transform(X_res)\n",
    "ss_X_imbal = ss.fit_transform(X_dums)"
   ]
  },
  {
   "cell_type": "code",
   "execution_count": 67,
   "metadata": {},
   "outputs": [],
   "source": [
    "#splitting the data with a random state to ensure consistent results\n",
    "X_train, X_test, y_train, y_test = train_test_split(ss_X, y_res, test_size=0.30, random_state=42)"
   ]
  },
  {
   "cell_type": "markdown",
   "metadata": {},
   "source": [
    "## Logistic Regression  \n",
    "This is just to get the classificaiton purposes only. No date has been added to the results"
   ]
  },
  {
   "cell_type": "code",
   "execution_count": 35,
   "metadata": {},
   "outputs": [
    {
     "data": {
      "text/plain": [
       "RFECV(cv=5,\n",
       "   estimator=LogisticRegression(C=1, class_weight=None, dual=False, fit_intercept=True,\n",
       "          intercept_scaling=1, max_iter=100, multi_class='ovr', n_jobs=-1,\n",
       "          penalty='l2', random_state=42, solver='saga', tol=0.0001,\n",
       "          verbose=0, warm_start=False),\n",
       "   n_jobs=-1, scoring='accuracy', step=1, verbose=1)"
      ]
     },
     "execution_count": 35,
     "metadata": {},
     "output_type": "execute_result"
    }
   ],
   "source": [
    "#model = ExtraTreesClassifier(min_samples_leaf=3,bootstrap=True)\n",
    "clf = LogisticRegression(C=1,random_state=42,solver='saga',n_jobs=-1)\n",
    "lr = RFECV(clf,step=1, cv=5,scoring='accuracy',verbose=1, n_jobs=-1)\n",
    "\n",
    "lr.fit(X_train,y_train)"
   ]
  },
  {
   "cell_type": "code",
   "execution_count": 36,
   "metadata": {},
   "outputs": [
    {
     "data": {
      "text/plain": [
       "0.9983193277310924"
      ]
     },
     "execution_count": 36,
     "metadata": {},
     "output_type": "execute_result"
    }
   ],
   "source": [
    "#this is concerning because it's too high. Will need more data. \n",
    "lr.score(X_test,y_test)"
   ]
  },
  {
   "cell_type": "code",
   "execution_count": 37,
   "metadata": {},
   "outputs": [],
   "source": [
    "#creating a directionary to show the best coeffients. \n",
    "ranking_dict = dict(zip(X_dums.columns,lr.ranking_))"
   ]
  },
  {
   "cell_type": "code",
   "execution_count": 38,
   "metadata": {},
   "outputs": [],
   "source": [
    "#Creating logistic regression predictions\n",
    "y_hat_lr = lr.predict(X_test)"
   ]
  },
  {
   "cell_type": "code",
   "execution_count": 39,
   "metadata": {},
   "outputs": [
    {
     "data": {
      "text/plain": [
       "0.9966397090253454"
      ]
     },
     "execution_count": 39,
     "metadata": {},
     "output_type": "execute_result"
    }
   ],
   "source": [
    "#Testing the imbalance of the datase and it's coefs.\n",
    "matthews_corrcoef(y_test,y_hat_lr)"
   ]
  },
  {
   "cell_type": "code",
   "execution_count": 69,
   "metadata": {},
   "outputs": [
    {
     "data": {
      "text/plain": [
       "0.9983818770226538"
      ]
     },
     "execution_count": 69,
     "metadata": {},
     "output_type": "execute_result"
    }
   ],
   "source": [
    "#See graph below. \n",
    "roc_auc_score(y_test,y_hat_lr)"
   ]
  },
  {
   "cell_type": "code",
   "execution_count": 70,
   "metadata": {},
   "outputs": [
    {
     "name": "stderr",
     "output_type": "stream",
     "text": [
      "C:\\ProgramData\\Anaconda3\\lib\\site-packages\\sklearn\\utils\\deprecation.py:77: DeprecationWarning: Function plot_roc_curve is deprecated; This will be removed in v0.5.0. Please use scikitplot.metrics.plot_roc instead.\n",
      "  warnings.warn(msg, category=DeprecationWarning)\n"
     ]
    },
    {
     "data": {
      "image/png": "[encoded data removed]",
      "text/plain": [
       "<Figure size 432x288 with 1 Axes>"
      ]
     },
     "metadata": {
      "needs_background": "light"
     },
     "output_type": "display_data"
    }
   ],
   "source": [
    "y_true = y_test\n",
    "y_probas = lr.predict_proba(X_test)\n",
    "skplt.metrics.plot_roc_curve(y_true, y_probas)\n",
    "plt.show()"
   ]
  },
  {
   "cell_type": "code",
   "execution_count": 71,
   "metadata": {},
   "outputs": [
    {
     "data": {
      "text/plain": [
       "{'column_1': 1,\n",
       " 'date': 1,\n",
       " 'formatted_address': 2,\n",
       " 'full_address': 3,\n",
       " 'geometry_location_lat': 1,\n",
       " 'geometry_location_lng': 1,\n",
       " 'place_id': 1}"
      ]
     },
     "execution_count": 71,
     "metadata": {},
     "output_type": "execute_result"
    }
   ],
   "source": [
    "ranking_dict"
   ]
  },
  {
   "cell_type": "markdown",
   "metadata": {},
   "source": [
    "## ExtraTreesClassifier  \n",
    "This ensemble method was used because it was a little faster.\n",
    "Still classificaiton, but helps weaker samples by boosting."
   ]
  },
  {
   "cell_type": "code",
   "execution_count": 72,
   "metadata": {},
   "outputs": [],
   "source": [
    "clf = ExtraTreesClassifier(min_samples_leaf=3,random_state=42)\n",
    "model = RFECV(clf, cv=2)\n",
    "\n",
    "model.fit(X_train,y_train)\n",
    "\n",
    "model.score(X_test,y_test)\n",
    "\n",
    "y_hat = model.predict(X_test)"
   ]
  },
  {
   "cell_type": "code",
   "execution_count": 73,
   "metadata": {},
   "outputs": [
    {
     "data": {
      "text/plain": [
       "0.9966397090253454"
      ]
     },
     "execution_count": 73,
     "metadata": {},
     "output_type": "execute_result"
    }
   ],
   "source": [
    "matthews_corrcoef(y_test,y_hat)"
   ]
  },
  {
   "cell_type": "code",
   "execution_count": 74,
   "metadata": {},
   "outputs": [],
   "source": [
    "ranking_dict = dict(zip(X_dums.columns,model.ranking_))"
   ]
  },
  {
   "cell_type": "code",
   "execution_count": 75,
   "metadata": {},
   "outputs": [
    {
     "data": {
      "text/plain": [
       "{'current_first_position_open_loan_amount': 1,\n",
       " 'current_first_position_open_loan_interest_rate': 1,\n",
       " 'current_first_position_open_loan_recording_date': 3,\n",
       " 'current_first_position_open_loan_transaction_id': 2,\n",
       " 'current_second_position_open_loan_amount': 1,\n",
       " 'current_second_position_open_loan_interest_rate': 1,\n",
       " 'current_second_position_open_loan_transaction_id': 1}"
      ]
     },
     "execution_count": 75,
     "metadata": {},
     "output_type": "execute_result"
    }
   ],
   "source": [
    "#This is a dictionary  showing the ranking of each coeffient. \n",
    "ranking_dict"
   ]
  },
  {
   "cell_type": "code",
   "execution_count": 76,
   "metadata": {},
   "outputs": [
    {
     "data": {
      "text/plain": [
       "0.9983818770226538"
      ]
     },
     "execution_count": 76,
     "metadata": {},
     "output_type": "execute_result"
    }
   ],
   "source": [
    "#True postive vs False Positive. \n",
    "roc_auc_score(y_test,y_hat)"
   ]
  },
  {
   "cell_type": "code",
   "execution_count": 77,
   "metadata": {},
   "outputs": [
    {
     "name": "stderr",
     "output_type": "stream",
     "text": [
      "C:\\ProgramData\\Anaconda3\\lib\\site-packages\\sklearn\\utils\\deprecation.py:77: DeprecationWarning: Function plot_roc_curve is deprecated; This will be removed in v0.5.0. Please use scikitplot.metrics.plot_roc instead.\n",
      "  warnings.warn(msg, category=DeprecationWarning)\n"
     ]
    },
    {
     "data": {
      "image/png": "[encoded data removed]",
      "text/plain": [
       "<Figure size 432x288 with 1 Axes>"
      ]
     },
     "metadata": {
      "needs_background": "light"
     },
     "output_type": "display_data"
    }
   ],
   "source": [
    "#Graphing the results\n",
    "y_true = y_test\n",
    "y_probas = lr.predict_proba(X_test)\n",
    "skplt.metrics.plot_roc_curve(y_true, y_probas)\n",
    "plt.show()"
   ]
  }
 ],
 "metadata": {
  "kernelspec": {
   "display_name": "Python 3",
   "language": "python",
   "name": "python3"
  },
  "language_info": {
   "codemirror_mode": {
    "name": "ipython",
    "version": 3
   },
   "file_extension": ".py",
   "mimetype": "text/x-python",
   "name": "python",
   "nbconvert_exporter": "python",
   "pygments_lexer": "ipython3",
   "version": "3.5.6"
  }
 },
 "nbformat": 4,
 "nbformat_minor": 2
}
